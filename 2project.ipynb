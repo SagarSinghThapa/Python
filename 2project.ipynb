{
  "nbformat": 4,
  "nbformat_minor": 0,
  "metadata": {
    "colab": {
      "provenance": [],
      "authorship_tag": "ABX9TyNhPLjPLXm72q7VjJvuRZWJ",
      "include_colab_link": true
    },
    "kernelspec": {
      "name": "python3",
      "display_name": "Python 3"
    },
    "language_info": {
      "name": "python"
    }
  },
  "cells": [
    {
      "cell_type": "markdown",
      "metadata": {
        "id": "view-in-github",
        "colab_type": "text"
      },
      "source": [
        "<a href=\"https://colab.research.google.com/github/SagarSinghThapa/Python/blob/main/2project.ipynb\" target=\"_parent\"><img src=\"https://colab.research.google.com/assets/colab-badge.svg\" alt=\"Open In Colab\"/></a>"
      ]
    },
    {
      "cell_type": "markdown",
      "source": [
        "Python Project 2"
      ],
      "metadata": {
        "id": "8H8LBmGboEpC"
      }
    },
    {
      "cell_type": "code",
      "source": [
        "class Employee:\n",
        "    def __init__(self,emp_id,name,department):\n",
        "        self.emp_id=emp_id\n",
        "        self.name=name\n",
        "        self.department=department\n",
        "\n",
        "    def display_info(self):\n",
        "        print(\"Employee ID:\" ,self.emp_id)\n",
        "        print(\"Employee Name:\" ,self.name)\n",
        "        print(\"Employee Department:\" ,self.department)\n",
        "\n",
        "class Manager(Employee):\n",
        "    def __init__(self,emp_id,name,department,team_size):\n",
        "        super().__init__(emp_id, name, department)\n",
        "        self.team_size=team_size\n",
        "\n",
        "    def display_info(self):\n",
        "        super().display_info()\n",
        "        print(\"Team Size:\" ,self.team_size)\n",
        "\n",
        "def get_positive_value(prompt):\n",
        "    while True:\n",
        "        try:\n",
        "            value=int(input(prompt))\n",
        "            if value<=0:\n",
        "                raise ValueError(\"Please enter a positive integer.\")\n",
        "            return value\n",
        "        except ValueError as e:\n",
        "            print(\"Error:\", e)\n",
        "\n",
        "employees=[]\n",
        "\n",
        "while True:\n",
        "    print(\"1. Add Employee\")\n",
        "    print(\"2. Display Employees\")\n",
        "    print(\"3. Exit\")\n",
        "    choice = input(\"Enter your choice 1, 2, 3: \")\n",
        "\n",
        "    if choice=='1':\n",
        "        emp_id=get_positive_value(\"Enter Employee ID: \")\n",
        "        name=input(\"Enter Employee Name: \")\n",
        "        department=input(\"Enter Department: \")\n",
        "        team_size=get_positive_value(\"Enter Team Size (for managers): \")\n",
        "        try:\n",
        "            if team_size>0:\n",
        "                new_employee=Manager(emp_id, name, department, team_size)\n",
        "            else:\n",
        "                new_employee=Employee(emp_id, name, department)\n",
        "            employees.append(new_employee)\n",
        "            print(f\"Employee {name} added successfully!\")\n",
        "        except Exception as e:\n",
        "            print(\"Error adding employee:\" ,e)\n",
        "    elif choice=='2':\n",
        "        print(\"\\nEmployee List:\")\n",
        "        for emp in employees:\n",
        "            emp.display_info()\n",
        "\n",
        "    elif choice=='3':\n",
        "        print(\"Exiting Employee Management System. Goodbye!\")\n",
        "        break\n",
        "    else:\n",
        "        print(\"Invalid choice. Please select 1, 2, or 3.\")"
      ],
      "metadata": {
        "colab": {
          "base_uri": "https://localhost:8080/"
        },
        "id": "2uySAINF27eD",
        "outputId": "5d1d9494-b9ac-474a-8f50-98069696fb7f"
      },
      "execution_count": 2,
      "outputs": [
        {
          "output_type": "stream",
          "name": "stdout",
          "text": [
            "1. Add Employee\n",
            "2. Display Employees\n",
            "3. Exit\n",
            "Enter your choice 1, 2, 3: 1\n",
            "Enter Employee ID: 5755842\n",
            "Enter Employee Name: Sagar \n",
            "Enter Department: IT\n",
            "Enter Team Size (for managers): 5\n",
            "Employee Sagar  added successfully!\n",
            "1. Add Employee\n",
            "2. Display Employees\n",
            "3. Exit\n",
            "Enter your choice 1, 2, 3: 2\n",
            "\n",
            "Employee List:\n",
            "Employee ID: 5755842\n",
            "Employee Name: Sagar \n",
            "Employee Department: IT\n",
            "Team Size: 5\n",
            "1. Add Employee\n",
            "2. Display Employees\n",
            "3. Exit\n",
            "Enter your choice 1, 2, 3: 3\n",
            "Exiting Employee Management System. Goodbye!\n"
          ]
        }
      ]
    }
  ]
}