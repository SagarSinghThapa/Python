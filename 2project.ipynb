{
  "nbformat": 4,
  "nbformat_minor": 0,
  "metadata": {
    "colab": {
      "provenance": [],
      "authorship_tag": "ABX9TyOfG8fsPSMW362YVtIiWIvt",
      "include_colab_link": true
    },
    "kernelspec": {
      "name": "python3",
      "display_name": "Python 3"
    },
    "language_info": {
      "name": "python"
    }
  },
  "cells": [
    {
      "cell_type": "markdown",
      "metadata": {
        "id": "view-in-github",
        "colab_type": "text"
      },
      "source": [
        "<a href=\"https://colab.research.google.com/github/SagarSinghThapa/Python/blob/main/2project.ipynb\" target=\"_parent\"><img src=\"https://colab.research.google.com/assets/colab-badge.svg\" alt=\"Open In Colab\"/></a>"
      ]
    },
    {
      "cell_type": "markdown",
      "source": [
        "Python Project 2"
      ],
      "metadata": {
        "id": "8H8LBmGboEpC"
      }
    },
    {
      "cell_type": "code",
      "source": [
        "class Employee:\n",
        "    def __init__(self,emp_id,name,department):\n",
        "        self.emp_id=emp_id\n",
        "        self.name=name\n",
        "        self.department=department\n",
        "\n",
        "    def display_info(self):\n",
        "        print(f\"Employee ID: {self.emp_id}\")\n",
        "        print(f\"Employee Name: {self.name}\")\n",
        "        print(f\"Employee Department: {self.department}\")\n",
        "\n",
        "class Manager(Employee):\n",
        "    def __init__(self,emp_id,name,department,team_size):\n",
        "        super().__init__(emp_id, name, department)\n",
        "        self.team_size=team_size\n",
        "\n",
        "    def display_info(self):\n",
        "        super().display_info()\n",
        "        print(f\"Team Size: {self.team_size}\")\n",
        "\n",
        "def get_positive_value(prompt):\n",
        "    while True:\n",
        "        try:\n",
        "            value=int(input(prompt))\n",
        "            if value<=0:\n",
        "                raise ValueError(\"Please enter a positive integer.\")\n",
        "            return value\n",
        "        except ValueError as e:\n",
        "            print(f\"Error: {e}\")\n",
        "\n",
        "employees=[]\n",
        "\n",
        "while True:\n",
        "    print(\"1. Add Employee\")\n",
        "    print(\"2. Display Employees\")\n",
        "    print(\"3. Exit\")\n",
        "    choice = input(\"Enter your choice 1, 2, 3: \")\n",
        "\n",
        "    if choice=='1':\n",
        "        emp_id=get_positive_value(\"Enter Employee ID: \")\n",
        "        name=input(\"Enter Employee Name: \")\n",
        "        department=input(\"Enter Department: \")\n",
        "        team_size=get_positive_value(\"Enter Team Size (for managers): \")\n",
        "        try:\n",
        "            if team_size>0:\n",
        "                new_employee=Manager(emp_id, name, department, team_size)\n",
        "            else:\n",
        "                new_employee=Employee(emp_id, name, department)\n",
        "            employees.append(new_employee)\n",
        "            print(f\"Employee {name} added successfully!\")\n",
        "        except Exception as e:\n",
        "            print(f\"Error adding employee: {e}\")\n",
        "    elif choice=='2':\n",
        "        print(\"\\nEmployee List:\")\n",
        "        for emp in employees:\n",
        "            emp.display_info()\n",
        "\n",
        "    elif choice=='3':\n",
        "        print(\"Exiting Employee Management System. Goodbye!\")\n",
        "        break\n",
        "    else:\n",
        "        print(\"Invalid choice. Please select 1, 2, or 3.\")\n",
        "\n",
        "\n",
        "\n",
        "\n",
        "\n",
        "\n",
        "\n",
        "\n",
        "\n",
        "\n"
      ],
      "metadata": {
        "colab": {
          "base_uri": "https://localhost:8080/",
          "height": 1000
        },
        "id": "2uySAINF27eD",
        "outputId": "d78af83a-798a-4afc-ad77-a7f653ca83e2"
      },
      "execution_count": null,
      "outputs": [
        {
          "output_type": "stream",
          "name": "stdout",
          "text": [
            "1. Add Employee\n",
            "2. Display Employees\n",
            "3. Exit\n",
            "Enter your choice (1, 2, 3): 1\n",
            "Enter Employee ID: 5755842\n",
            "Enter Employee Name: Sagar Singh Thapa\n",
            "Enter Department: IT\n",
            "Enter Team Size (for managers): 5\n",
            "Employee Sagar Singh Thapa added successfully!\n",
            "1. Add Employee\n",
            "2. Display Employees\n",
            "3. Exit\n",
            "Enter your choice (1, 2, 3): 2\n",
            "\n",
            "Employee List:\n",
            "Employee ID: 5755842\n",
            "Employee Name: Sagar Singh Thapa\n",
            "Employee Department: IT\n",
            "Team Size: 5\n",
            "------------------------------\n",
            "1. Add Employee\n",
            "2. Display Employees\n",
            "3. Exit\n",
            "Enter your choice (1, 2, 3): 1\n",
            "Enter Employee ID: 567498\n",
            "Enter Employee Name: Mayank\n",
            "Enter Department: IT\n",
            "Enter Team Size (for managers): 3\n",
            "Employee Mayank added successfully!\n",
            "1. Add Employee\n",
            "2. Display Employees\n",
            "3. Exit\n",
            "Enter your choice (1, 2, 3): 2\n",
            "\n",
            "Employee List:\n",
            "Employee ID: 5755842\n",
            "Employee Name: Sagar Singh Thapa\n",
            "Employee Department: IT\n",
            "Team Size: 5\n",
            "------------------------------\n",
            "Employee ID: 567498\n",
            "Employee Name: Mayank\n",
            "Employee Department: IT\n",
            "Team Size: 3\n",
            "------------------------------\n",
            "1. Add Employee\n",
            "2. Display Employees\n",
            "3. Exit\n"
          ]
        },
        {
          "output_type": "error",
          "ename": "KeyboardInterrupt",
          "evalue": "Interrupted by user",
          "traceback": [
            "\u001b[0;31m---------------------------------------------------------------------------\u001b[0m",
            "\u001b[0;31mKeyboardInterrupt\u001b[0m                         Traceback (most recent call last)",
            "\u001b[0;32m<ipython-input-9-48712751023a>\u001b[0m in \u001b[0;36m<cell line: 33>\u001b[0;34m()\u001b[0m\n\u001b[1;32m     35\u001b[0m     \u001b[0mprint\u001b[0m\u001b[0;34m(\u001b[0m\u001b[0;34m\"2. Display Employees\"\u001b[0m\u001b[0;34m)\u001b[0m\u001b[0;34m\u001b[0m\u001b[0;34m\u001b[0m\u001b[0m\n\u001b[1;32m     36\u001b[0m     \u001b[0mprint\u001b[0m\u001b[0;34m(\u001b[0m\u001b[0;34m\"3. Exit\"\u001b[0m\u001b[0;34m)\u001b[0m\u001b[0;34m\u001b[0m\u001b[0;34m\u001b[0m\u001b[0m\n\u001b[0;32m---> 37\u001b[0;31m     \u001b[0mchoice\u001b[0m \u001b[0;34m=\u001b[0m \u001b[0minput\u001b[0m\u001b[0;34m(\u001b[0m\u001b[0;34m\"Enter your choice (1, 2, 3): \"\u001b[0m\u001b[0;34m)\u001b[0m\u001b[0;34m\u001b[0m\u001b[0;34m\u001b[0m\u001b[0m\n\u001b[0m\u001b[1;32m     38\u001b[0m \u001b[0;34m\u001b[0m\u001b[0m\n\u001b[1;32m     39\u001b[0m     \u001b[0;32mif\u001b[0m \u001b[0mchoice\u001b[0m \u001b[0;34m==\u001b[0m \u001b[0;34m'1'\u001b[0m\u001b[0;34m:\u001b[0m\u001b[0;34m\u001b[0m\u001b[0;34m\u001b[0m\u001b[0m\n",
            "\u001b[0;32m/usr/local/lib/python3.10/dist-packages/ipykernel/kernelbase.py\u001b[0m in \u001b[0;36mraw_input\u001b[0;34m(self, prompt)\u001b[0m\n\u001b[1;32m    849\u001b[0m                 \u001b[0;34m\"raw_input was called, but this frontend does not support input requests.\"\u001b[0m\u001b[0;34m\u001b[0m\u001b[0;34m\u001b[0m\u001b[0m\n\u001b[1;32m    850\u001b[0m             )\n\u001b[0;32m--> 851\u001b[0;31m         return self._input_request(str(prompt),\n\u001b[0m\u001b[1;32m    852\u001b[0m             \u001b[0mself\u001b[0m\u001b[0;34m.\u001b[0m\u001b[0m_parent_ident\u001b[0m\u001b[0;34m,\u001b[0m\u001b[0;34m\u001b[0m\u001b[0;34m\u001b[0m\u001b[0m\n\u001b[1;32m    853\u001b[0m             \u001b[0mself\u001b[0m\u001b[0;34m.\u001b[0m\u001b[0m_parent_header\u001b[0m\u001b[0;34m,\u001b[0m\u001b[0;34m\u001b[0m\u001b[0;34m\u001b[0m\u001b[0m\n",
            "\u001b[0;32m/usr/local/lib/python3.10/dist-packages/ipykernel/kernelbase.py\u001b[0m in \u001b[0;36m_input_request\u001b[0;34m(self, prompt, ident, parent, password)\u001b[0m\n\u001b[1;32m    893\u001b[0m             \u001b[0;32mexcept\u001b[0m \u001b[0mKeyboardInterrupt\u001b[0m\u001b[0;34m:\u001b[0m\u001b[0;34m\u001b[0m\u001b[0;34m\u001b[0m\u001b[0m\n\u001b[1;32m    894\u001b[0m                 \u001b[0;31m# re-raise KeyboardInterrupt, to truncate traceback\u001b[0m\u001b[0;34m\u001b[0m\u001b[0;34m\u001b[0m\u001b[0m\n\u001b[0;32m--> 895\u001b[0;31m                 \u001b[0;32mraise\u001b[0m \u001b[0mKeyboardInterrupt\u001b[0m\u001b[0;34m(\u001b[0m\u001b[0;34m\"Interrupted by user\"\u001b[0m\u001b[0;34m)\u001b[0m \u001b[0;32mfrom\u001b[0m \u001b[0;32mNone\u001b[0m\u001b[0;34m\u001b[0m\u001b[0;34m\u001b[0m\u001b[0m\n\u001b[0m\u001b[1;32m    896\u001b[0m             \u001b[0;32mexcept\u001b[0m \u001b[0mException\u001b[0m \u001b[0;32mas\u001b[0m \u001b[0me\u001b[0m\u001b[0;34m:\u001b[0m\u001b[0;34m\u001b[0m\u001b[0;34m\u001b[0m\u001b[0m\n\u001b[1;32m    897\u001b[0m                 \u001b[0mself\u001b[0m\u001b[0;34m.\u001b[0m\u001b[0mlog\u001b[0m\u001b[0;34m.\u001b[0m\u001b[0mwarning\u001b[0m\u001b[0;34m(\u001b[0m\u001b[0;34m\"Invalid Message:\"\u001b[0m\u001b[0;34m,\u001b[0m \u001b[0mexc_info\u001b[0m\u001b[0;34m=\u001b[0m\u001b[0;32mTrue\u001b[0m\u001b[0;34m)\u001b[0m\u001b[0;34m\u001b[0m\u001b[0;34m\u001b[0m\u001b[0m\n",
            "\u001b[0;31mKeyboardInterrupt\u001b[0m: Interrupted by user"
          ]
        }
      ]
    }
  ]
}