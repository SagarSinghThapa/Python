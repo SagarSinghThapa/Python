{
  "nbformat": 4,
  "nbformat_minor": 0,
  "metadata": {
    "colab": {
      "provenance": [],
      "authorship_tag": "ABX9TyMXQZEZDuR2eRKtIIt44aG7",
      "include_colab_link": true
    },
    "kernelspec": {
      "name": "python3",
      "display_name": "Python 3"
    },
    "language_info": {
      "name": "python"
    }
  },
  "cells": [
    {
      "cell_type": "markdown",
      "metadata": {
        "id": "view-in-github",
        "colab_type": "text"
      },
      "source": [
        "<a href=\"https://colab.research.google.com/github/SagarSinghThapa/Python/blob/main/breakandcontinue.ipynb\" target=\"_parent\"><img src=\"https://colab.research.google.com/assets/colab-badge.svg\" alt=\"Open In Colab\"/></a>"
      ]
    },
    {
      "cell_type": "code",
      "execution_count": 4,
      "metadata": {
        "colab": {
          "base_uri": "https://localhost:8080/"
        },
        "id": "oD4iWALgeD5C",
        "outputId": "0188fa96-80bb-4a27-b202-d54f12c06f33"
      },
      "outputs": [
        {
          "output_type": "stream",
          "name": "stdout",
          "text": [
            "5 X  1 = 5\n",
            "5 X  2 = 10\n",
            "5 X  3 = 15\n",
            "5 X  4 = 20\n",
            "5 X  5 = 25\n",
            "5 X  6 = 30\n",
            "5 X  7 = 35\n",
            "5 X  8 = 40\n",
            "5 X  9 = 45\n",
            "5 X  10 = 50\n"
          ]
        }
      ],
      "source": [
        "for i in range(12):\n",
        "  if(i==10):\n",
        "    break\n",
        "  print(\"5 X \",i+1,\"=\",5* (i+1))"
      ]
    },
    {
      "cell_type": "code",
      "source": [
        "for i in range(12):\n",
        "  if(i==10):\n",
        "    continue\n",
        "  print(\"5 X \",i+1,\"=\",5* (i+1))"
      ],
      "metadata": {
        "colab": {
          "base_uri": "https://localhost:8080/"
        },
        "id": "VZlhh_-1f6YE",
        "outputId": "bb420b57-398a-479b-dee4-ddbd77f7f5b1"
      },
      "execution_count": 5,
      "outputs": [
        {
          "output_type": "stream",
          "name": "stdout",
          "text": [
            "5 X  1 = 5\n",
            "5 X  2 = 10\n",
            "5 X  3 = 15\n",
            "5 X  4 = 20\n",
            "5 X  5 = 25\n",
            "5 X  6 = 30\n",
            "5 X  7 = 35\n",
            "5 X  8 = 40\n",
            "5 X  9 = 45\n",
            "5 X  10 = 50\n",
            "5 X  12 = 60\n"
          ]
        }
      ]
    },
    {
      "cell_type": "markdown",
      "source": [
        "continue statement\n",
        "its skips the rest of the loop statement and cause the next iteration"
      ],
      "metadata": {
        "id": "tCqrz8QJgUFY"
      }
    },
    {
      "cell_type": "code",
      "source": [
        "for i in [2,3,4,5,6,7,8,9]:\n",
        "  if(i%2!=0):\n",
        "    continue\n",
        "  print(i)"
      ],
      "metadata": {
        "colab": {
          "base_uri": "https://localhost:8080/"
        },
        "id": "vm0lbD5Ig1Q4",
        "outputId": "15e0cc3a-2b7b-47b5-f2ea-6b01be4f5323"
      },
      "execution_count": 6,
      "outputs": [
        {
          "output_type": "stream",
          "name": "stdout",
          "text": [
            "2\n",
            "4\n",
            "6\n",
            "8\n"
          ]
        }
      ]
    },
    {
      "cell_type": "code",
      "source": [
        "while True:\n",
        "  print(i)\n",
        "  i=i+1\n",
        "  if(i%100 == 0):\n",
        "    break"
      ],
      "metadata": {
        "colab": {
          "base_uri": "https://localhost:8080/"
        },
        "id": "R8oZgyQ9hg7S",
        "outputId": "4ec3c770-7316-4fd4-db8e-bf5e9db5b79c"
      },
      "execution_count": 7,
      "outputs": [
        {
          "output_type": "stream",
          "name": "stdout",
          "text": [
            "9\n",
            "10\n",
            "11\n",
            "12\n",
            "13\n",
            "14\n",
            "15\n",
            "16\n",
            "17\n",
            "18\n",
            "19\n",
            "20\n",
            "21\n",
            "22\n",
            "23\n",
            "24\n",
            "25\n",
            "26\n",
            "27\n",
            "28\n",
            "29\n",
            "30\n",
            "31\n",
            "32\n",
            "33\n",
            "34\n",
            "35\n",
            "36\n",
            "37\n",
            "38\n",
            "39\n",
            "40\n",
            "41\n",
            "42\n",
            "43\n",
            "44\n",
            "45\n",
            "46\n",
            "47\n",
            "48\n",
            "49\n",
            "50\n",
            "51\n",
            "52\n",
            "53\n",
            "54\n",
            "55\n",
            "56\n",
            "57\n",
            "58\n",
            "59\n",
            "60\n",
            "61\n",
            "62\n",
            "63\n",
            "64\n",
            "65\n",
            "66\n",
            "67\n",
            "68\n",
            "69\n",
            "70\n",
            "71\n",
            "72\n",
            "73\n",
            "74\n",
            "75\n",
            "76\n",
            "77\n",
            "78\n",
            "79\n",
            "80\n",
            "81\n",
            "82\n",
            "83\n",
            "84\n",
            "85\n",
            "86\n",
            "87\n",
            "88\n",
            "89\n",
            "90\n",
            "91\n",
            "92\n",
            "93\n",
            "94\n",
            "95\n",
            "96\n",
            "97\n",
            "98\n",
            "99\n"
          ]
        }
      ]
    },
    {
      "cell_type": "code",
      "source": [],
      "metadata": {
        "id": "cdQmuVTqiHaZ"
      },
      "execution_count": null,
      "outputs": []
    }
  ]
}