{
  "nbformat": 4,
  "nbformat_minor": 0,
  "metadata": {
    "colab": {
      "provenance": [],
      "authorship_tag": "ABX9TyN1Bo9bHYEm9m1pm/24aLpC",
      "include_colab_link": true
    },
    "kernelspec": {
      "name": "python3",
      "display_name": "Python 3"
    },
    "language_info": {
      "name": "python"
    }
  },
  "cells": [
    {
      "cell_type": "markdown",
      "metadata": {
        "id": "view-in-github",
        "colab_type": "text"
      },
      "source": [
        "<a href=\"https://colab.research.google.com/github/SagarSinghThapa/Python/blob/main/oops.ipynb\" target=\"_parent\"><img src=\"https://colab.research.google.com/assets/colab-badge.svg\" alt=\"Open In Colab\"/></a>"
      ]
    },
    {
      "cell_type": "code",
      "execution_count": null,
      "metadata": {
        "colab": {
          "base_uri": "https://localhost:8080/"
        },
        "id": "PGIwUOSOeE80",
        "outputId": "df6dc8ca-b4ab-4b03-a591-b4779e05910d"
      },
      "outputs": [
        {
          "output_type": "stream",
          "name": "stdout",
          "text": [
            "Subham\n"
          ]
        }
      ],
      "source": [
        " class person:\n",
        "  name=\"Sagar\"\n",
        "  course=\"engineer\"\n",
        "  sap_ID=500124495\n",
        "\n",
        "a=person()\n",
        "a.name=\"Subham\"\n",
        "print(a.name)"
      ]
    },
    {
      "cell_type": "code",
      "source": [
        "class detail:\n",
        "  name=\"Rohan\"\n",
        "  age=20\n",
        "  def info(self):\n",
        "    print(f\"{self.name} has an age of {self.name}\")\n",
        "\n",
        "a=detail()\n",
        "print(a.name)\n",
        "print(a.age)\n",
        "b=detail()\n",
        "b.name=\"sonia\"\n",
        "b.age=20\n",
        "b.info()\n",
        "a.info()\n"
      ],
      "metadata": {
        "colab": {
          "base_uri": "https://localhost:8080/"
        },
        "id": "qQVO_zlgaZ6C",
        "outputId": "af67550f-492a-4004-8d74-d5f520cc98bd"
      },
      "execution_count": null,
      "outputs": [
        {
          "output_type": "stream",
          "name": "stdout",
          "text": [
            "Rohan\n",
            "20\n",
            "sonia has an age of sonia\n",
            "Rohan has an age of Rohan\n"
          ]
        }
      ]
    },
    {
      "cell_type": "code",
      "source": [
        "class person:\n",
        "  name=\"Sagar\"\n",
        "  course=\"engineer\"\n",
        "  sap_ID=500124495\n",
        "  def info(self):\n",
        "    print(f\"{self.name} is a {self.course}\")\n",
        "\n",
        "a=person()\n",
        "\n",
        "a.info()"
      ],
      "metadata": {
        "colab": {
          "base_uri": "https://localhost:8080/"
        },
        "id": "0_uA_CqUY2HZ",
        "outputId": "b01896b5-f31b-4eb5-f610-1bc54c7f053f"
      },
      "execution_count": null,
      "outputs": [
        {
          "output_type": "stream",
          "name": "stdout",
          "text": [
            "Sagar is a engineer\n"
          ]
        }
      ]
    },
    {
      "cell_type": "markdown",
      "source": [
        "constructor"
      ],
      "metadata": {
        "id": "D8A2ETaugIMA"
      }
    },
    {
      "cell_type": "code",
      "source": [
        "class person:\n",
        "  def __init__(self,n,o):\n",
        "    print(\"hey i am a person\")\n",
        "    self.name=n\n",
        "    self.occ=o\n",
        "\n",
        "\n",
        "  def info(self):\n",
        "    print(f\"{self.name} is a {self.occ} \")\n",
        "\n",
        "a=person(\"Sagar\",\"engineer\")\n",
        "b=person(\"Kumkum\",\"Doctor\")\n",
        "a.info()\n",
        "b.info()\n",
        "# a.name=\"Divya\"\n",
        "# a.occ=\"HR\"\n",
        "# a.info()\n",
        "\n"
      ],
      "metadata": {
        "colab": {
          "base_uri": "https://localhost:8080/"
        },
        "id": "lwXGimm-gd80",
        "outputId": "d695a699-af28-4080-a175-1d20d7ee2889"
      },
      "execution_count": null,
      "outputs": [
        {
          "output_type": "stream",
          "name": "stdout",
          "text": [
            "hey i am a person\n",
            "hey i am a person\n",
            "Sagar is a engineer \n",
            "Kumkum is a Doctor \n"
          ]
        }
      ]
    },
    {
      "cell_type": "markdown",
      "source": [
        "Decorators"
      ],
      "metadata": {
        "id": "pptwrN8jm5Gp"
      }
    },
    {
      "cell_type": "code",
      "source": [
        "\n",
        "\n",
        "def greet(fx):\n",
        "  def mfx(*argus,**kwargs):\n",
        "   print(\"Good Morning\")\n",
        "   fx(*args,**kwargs)\n",
        "   print(\"Thanks for using this function\")\n",
        "  return mfx\n",
        "@greet\n",
        "\n",
        "def hello():\n",
        "  print(\"Hello world\")\n",
        "\n",
        "@greet\n",
        "def add(a,b):\n",
        "  print(a+b)\n",
        "@greet\n",
        "# greet(hello)()\n",
        "hello()\n",
        "add(1,2)\n"
      ],
      "metadata": {
        "colab": {
          "base_uri": "https://localhost:8080/",
          "height": 110
        },
        "id": "gHQMxc6Zm95P",
        "outputId": "193abfb3-d55e-418c-e62a-4f53ceaa4ec2"
      },
      "execution_count": null,
      "outputs": [
        {
          "output_type": "error",
          "ename": "SyntaxError",
          "evalue": "invalid syntax (<ipython-input-29-f426a17318b1>, line 17)",
          "traceback": [
            "\u001b[0;36m  File \u001b[0;32m\"<ipython-input-29-f426a17318b1>\"\u001b[0;36m, line \u001b[0;32m17\u001b[0m\n\u001b[0;31m    hello()\u001b[0m\n\u001b[0m    ^\u001b[0m\n\u001b[0;31mSyntaxError\u001b[0m\u001b[0;31m:\u001b[0m invalid syntax\n"
          ]
        }
      ]
    },
    {
      "cell_type": "markdown",
      "source": [
        "Getters,setters"
      ],
      "metadata": {
        "id": "oImrDyx9M_HU"
      }
    },
    {
      "cell_type": "code",
      "source": [
        "class MyClass:\n",
        "  def __init__(self,value):\n",
        "    self._value=value\n",
        "  def show(self):\n",
        "    print(f\"value is {self._value}\")\n",
        "  @property\n",
        "  def value(self):\n",
        "    return self._value\n",
        "\n",
        "obj=MyClass(10)\n",
        "print(obj._value)"
      ],
      "metadata": {
        "id": "BhGOE8YCM9cj"
      },
      "execution_count": null,
      "outputs": []
    }
  ]
}