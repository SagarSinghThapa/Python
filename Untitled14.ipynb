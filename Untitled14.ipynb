{
  "nbformat": 4,
  "nbformat_minor": 0,
  "metadata": {
    "colab": {
      "provenance": [],
      "authorship_tag": "ABX9TyPVVX6xJ+kSONGlxOlFw22S",
      "include_colab_link": true
    },
    "kernelspec": {
      "name": "python3",
      "display_name": "Python 3"
    },
    "language_info": {
      "name": "python"
    }
  },
  "cells": [
    {
      "cell_type": "markdown",
      "metadata": {
        "id": "view-in-github",
        "colab_type": "text"
      },
      "source": [
        "<a href=\"https://colab.research.google.com/github/SagarSinghThapa/Python/blob/main/Untitled14.ipynb\" target=\"_parent\"><img src=\"https://colab.research.google.com/assets/colab-badge.svg\" alt=\"Open In Colab\"/></a>"
      ]
    },
    {
      "cell_type": "code",
      "execution_count": null,
      "metadata": {
        "colab": {
          "base_uri": "https://localhost:8080/"
        },
        "id": "g9QZ7Z0i_CeX",
        "outputId": "0793f92e-2f62-4ea3-ab1e-35ff99e776e7"
      },
      "outputs": [
        {
          "output_type": "stream",
          "name": "stdout",
          "text": [
            "two\n",
            "four\n",
            "one\n",
            "three\n"
          ]
        }
      ],
      "source": [
        "myset={'one','two', 'three', 'four'}\n",
        "for i in myset:\n",
        "  print(i)"
      ]
    },
    {
      "cell_type": "code",
      "source": [
        "myset={'one','two', 'three', 'four'}\n",
        "myset.add('nine')\n",
        "print(myset)"
      ],
      "metadata": {
        "colab": {
          "base_uri": "https://localhost:8080/"
        },
        "id": "yZwGhCqY_fWa",
        "outputId": "59111506-d497-4d98-e247-29d180960ff8"
      },
      "execution_count": null,
      "outputs": [
        {
          "output_type": "stream",
          "name": "stdout",
          "text": [
            "{'one', 'three', 'two', 'nine', 'four'}\n"
          ]
        }
      ]
    }
  ]
}