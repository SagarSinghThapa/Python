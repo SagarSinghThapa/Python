{
  "nbformat": 4,
  "nbformat_minor": 0,
  "metadata": {
    "colab": {
      "provenance": [],
      "authorship_tag": "ABX9TyNu3pcH91DTierrM1zXlpXu",
      "include_colab_link": true
    },
    "kernelspec": {
      "name": "python3",
      "display_name": "Python 3"
    },
    "language_info": {
      "name": "python"
    }
  },
  "cells": [
    {
      "cell_type": "markdown",
      "metadata": {
        "id": "view-in-github",
        "colab_type": "text"
      },
      "source": [
        "<a href=\"https://colab.research.google.com/github/SagarSinghThapa/Python/blob/main/functions.ipynb\" target=\"_parent\"><img src=\"https://colab.research.google.com/assets/colab-badge.svg\" alt=\"Open In Colab\"/></a>"
      ]
    },
    {
      "cell_type": "code",
      "execution_count": null,
      "metadata": {
        "id": "9UJOVr2OjcfI",
        "colab": {
          "base_uri": "https://localhost:8080/"
        },
        "outputId": "c581741d-c827-4eac-e80f-02dd510e977f"
      },
      "outputs": [
        {
          "output_type": "stream",
          "name": "stdout",
          "text": [
            "4.235294117647059\n",
            "first number is greater\n"
          ]
        }
      ],
      "source": [
        "def calculateGP(a,b):\n",
        "  mean=(a*b)/(a+b)\n",
        "  print(mean)\n",
        "\n",
        "def isGreater(a,b):\n",
        "  if(a>b):\n",
        "   print(\"first number is greater\")\n",
        "  else:\n",
        "    print(\"Second number is greater or equal\")\n",
        "\n",
        "def issmaller(a,b):\n",
        "  pass\n",
        "a=9\n",
        "b=8\n",
        "\n",
        "\n",
        "calculateGP(a,b)\n",
        "isGreater(a,b)\n",
        "c=8\n",
        "d=7\n",
        "\n"
      ]
    },
    {
      "cell_type": "code",
      "source": [
        "def name(fname, mname = \"Singh\", lname = \"Thapa\"):\n",
        "    print(\"Hello,\", fname, mname, lname)\n",
        "\n",
        "name(\"Sagar\")"
      ],
      "metadata": {
        "colab": {
          "base_uri": "https://localhost:8080/"
        },
        "id": "yRONhnxs8cr8",
        "outputId": "5a062b7e-c73c-4c17-b129-bae9f37d8c2d"
      },
      "execution_count": null,
      "outputs": [
        {
          "output_type": "stream",
          "name": "stdout",
          "text": [
            "Hello, Sagar Singh Thapa\n"
          ]
        }
      ]
    },
    {
      "cell_type": "code",
      "source": [
        "def name(fname, mname, lname):\n",
        "    return \"Hello, \" + fname + \" \" + mname + \" \" + lname\n",
        "\n",
        "print(name(\"James\", \"Buchanan\", \"Barnes\"))"
      ],
      "metadata": {
        "colab": {
          "base_uri": "https://localhost:8080/"
        },
        "id": "YAjw8k4i80qr",
        "outputId": "061402f5-0ebd-46c5-d247-1322ec607b8a"
      },
      "execution_count": null,
      "outputs": [
        {
          "output_type": "stream",
          "name": "stdout",
          "text": [
            "Hello, James Buchanan Barnes\n"
          ]
        }
      ]
    },
    {
      "cell_type": "code",
      "source": [
        "def diff(x,y):\n",
        "  return x-y\n",
        "a=20\n",
        "b=10\n",
        "operation=diff\n",
        "print(operation(a,b))"
      ],
      "metadata": {
        "colab": {
          "base_uri": "https://localhost:8080/"
        },
        "id": "Lex1Ht-RJ9EK",
        "outputId": "855bb31c-bcb9-47d1-85bf-6a64a7288111"
      },
      "execution_count": null,
      "outputs": [
        {
          "output_type": "stream",
          "name": "stdout",
          "text": [
            "10\n"
          ]
        }
      ]
    },
    {
      "cell_type": "code",
      "source": [
        "\n",
        "def average(*numbers):\n",
        "  print(type(numbers))\n",
        "  sum = 0\n",
        "  for i in numbers:\n",
        "    sum = sum + i\n",
        "  print(\"Average is: \", sum / len(numbers))\n",
        "  return 7\n",
        "  return sum / len(numbers)\n",
        "\n",
        "\n",
        "\n",
        "\n",
        "c = average(5, 6, 7, 1)\n",
        "print(c)"
      ],
      "metadata": {
        "colab": {
          "base_uri": "https://localhost:8080/"
        },
        "id": "TE1Oc9bJ9l7E",
        "outputId": "c7b0da80-6717-4a8f-fbf3-92aa3f41b59e"
      },
      "execution_count": null,
      "outputs": [
        {
          "output_type": "stream",
          "name": "stdout",
          "text": [
            "<class 'tuple'>\n",
            "Average is:  4.75\n",
            "7\n"
          ]
        }
      ]
    },
    {
      "cell_type": "code",
      "source": [
        "names=[\"Sagar\",\"Mayank\",\"Sohan\", \"Mohan\"]\n",
        "\n",
        "def greet_names(names):\n",
        "  greetings=[]\n",
        "  for name in names:\n",
        "    if name.startswith('S'):\n",
        "      greetings.append(f\"hello, {name}!\")\n",
        "  return greetings\n",
        "\n",
        "greetings = greet_names(names)\n",
        "for greeting in  greetings:\n",
        "  print(greeting)"
      ],
      "metadata": {
        "colab": {
          "base_uri": "https://localhost:8080/"
        },
        "id": "V-B0bytS_lnw",
        "outputId": "d91dd94c-5f30-4484-b902-186d9cfd642f"
      },
      "execution_count": null,
      "outputs": [
        {
          "output_type": "stream",
          "name": "stdout",
          "text": [
            "hello, Sagar!\n",
            "hello, Sohan!\n"
          ]
        }
      ]
    },
    {
      "cell_type": "code",
      "source": [
        "def func():\n",
        "         for i in range(4):\n",
        "            print(\"Hello world\")\n",
        "func()"
      ],
      "metadata": {
        "colab": {
          "base_uri": "https://localhost:8080/"
        },
        "id": "-SlY6noCKY8R",
        "outputId": "29455c46-bef9-4592-9a88-e466d38e0d25"
      },
      "execution_count": null,
      "outputs": [
        {
          "output_type": "stream",
          "name": "stdout",
          "text": [
            "Hello world\n",
            "Hello world\n",
            "Hello world\n",
            "Hello world\n"
          ]
        }
      ]
    },
    {
      "cell_type": "code",
      "source": [],
      "metadata": {
        "id": "bCmXuyFmKgQb"
      },
      "execution_count": null,
      "outputs": []
    }
  ]
}