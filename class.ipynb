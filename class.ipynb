{
  "cells": [
    {
      "cell_type": "markdown",
      "metadata": {
        "id": "view-in-github",
        "colab_type": "text"
      },
      "source": [
        "<a href=\"https://colab.research.google.com/github/SagarSinghThapa/Python/blob/main/class.ipynb\" target=\"_parent\"><img src=\"https://colab.research.google.com/assets/colab-badge.svg\" alt=\"Open In Colab\"/></a>"
      ]
    },
    {
      "cell_type": "code",
      "execution_count": null,
      "metadata": {
        "colab": {
          "base_uri": "https://localhost:8080/"
        },
        "id": "xruL6O2LcJbj",
        "outputId": "b149536f-591d-42fe-cc7c-d6de8bc06243"
      },
      "outputs": [
        {
          "name": "stdout",
          "output_type": "stream",
          "text": [
            "Sagar.SinghThapa@company.com\n",
            "Mayank.SinghBisht@company.com\n",
            "Sagar SinghThapa\n",
            "Mayank SinghBisht\n"
          ]
        }
      ],
      "source": [
        "class Employee:\n",
        "\n",
        "  def __init__(self,first,last,pay):\n",
        "    self.first=first\n",
        "    self.last=last\n",
        "    self.pay=pay\n",
        "    self.email=first+'.'+last + '@company.com'\n",
        "\n",
        "  def fullname(self):\n",
        "    print('{} {}'.format(self.first,self.last))\n",
        "\n",
        "\n",
        "\n",
        "emp_1=Employee('Sagar','SinghThapa',50000)\n",
        "emp_2=Employee('Mayank','SinghBisht',60000)\n",
        "\n",
        "print(emp_1.email)\n",
        "print(emp_2.email)\n",
        "\n",
        "emp_1.fullname()\n",
        "emp_2.fullname()"
      ]
    },
    {
      "cell_type": "code",
      "execution_count": null,
      "metadata": {
        "colab": {
          "base_uri": "https://localhost:8080/",
          "height": 462
        },
        "id": "PbkYIDXiBt6m",
        "outputId": "23483453-d3d6-4494-9952-f5caf3d88471"
      },
      "outputs": [
        {
          "name": "stdout",
          "output_type": "stream",
          "text": [
            "\n",
            "Employee Management System\n",
            "1. Add Employee\n",
            "2. Display Employees\n",
            "3. Exit\n"
          ]
        },
        {
          "ename": "KeyboardInterrupt",
          "evalue": "Interrupted by user",
          "output_type": "error",
          "traceback": [
            "\u001b[0;31m---------------------------------------------------------------------------\u001b[0m",
            "\u001b[0;31mKeyboardInterrupt\u001b[0m                         Traceback (most recent call last)",
            "\u001b[0;32m<ipython-input-1-c0526ad5fba0>\u001b[0m in \u001b[0;36m<cell line: 22>\u001b[0;34m()\u001b[0m\n\u001b[1;32m     25\u001b[0m     \u001b[0mprint\u001b[0m\u001b[0;34m(\u001b[0m\u001b[0;34m\"2. Display Employees\"\u001b[0m\u001b[0;34m)\u001b[0m\u001b[0;34m\u001b[0m\u001b[0;34m\u001b[0m\u001b[0m\n\u001b[1;32m     26\u001b[0m     \u001b[0mprint\u001b[0m\u001b[0;34m(\u001b[0m\u001b[0;34m\"3. Exit\"\u001b[0m\u001b[0;34m)\u001b[0m\u001b[0;34m\u001b[0m\u001b[0;34m\u001b[0m\u001b[0m\n\u001b[0;32m---> 27\u001b[0;31m     \u001b[0mchoice\u001b[0m \u001b[0;34m=\u001b[0m \u001b[0minput\u001b[0m\u001b[0;34m(\u001b[0m\u001b[0;34m\"Enter your choice (1/2/3): \"\u001b[0m\u001b[0;34m)\u001b[0m\u001b[0;34m\u001b[0m\u001b[0;34m\u001b[0m\u001b[0m\n\u001b[0m\u001b[1;32m     28\u001b[0m \u001b[0;34m\u001b[0m\u001b[0m\n\u001b[1;32m     29\u001b[0m     \u001b[0;32mif\u001b[0m \u001b[0mchoice\u001b[0m \u001b[0;34m==\u001b[0m \u001b[0;34m'1'\u001b[0m\u001b[0;34m:\u001b[0m\u001b[0;34m\u001b[0m\u001b[0;34m\u001b[0m\u001b[0m\n",
            "\u001b[0;32m/usr/local/lib/python3.10/dist-packages/ipykernel/kernelbase.py\u001b[0m in \u001b[0;36mraw_input\u001b[0;34m(self, prompt)\u001b[0m\n\u001b[1;32m    849\u001b[0m                 \u001b[0;34m\"raw_input was called, but this frontend does not support input requests.\"\u001b[0m\u001b[0;34m\u001b[0m\u001b[0;34m\u001b[0m\u001b[0m\n\u001b[1;32m    850\u001b[0m             )\n\u001b[0;32m--> 851\u001b[0;31m         return self._input_request(str(prompt),\n\u001b[0m\u001b[1;32m    852\u001b[0m             \u001b[0mself\u001b[0m\u001b[0;34m.\u001b[0m\u001b[0m_parent_ident\u001b[0m\u001b[0;34m,\u001b[0m\u001b[0;34m\u001b[0m\u001b[0;34m\u001b[0m\u001b[0m\n\u001b[1;32m    853\u001b[0m             \u001b[0mself\u001b[0m\u001b[0;34m.\u001b[0m\u001b[0m_parent_header\u001b[0m\u001b[0;34m,\u001b[0m\u001b[0;34m\u001b[0m\u001b[0;34m\u001b[0m\u001b[0m\n",
            "\u001b[0;32m/usr/local/lib/python3.10/dist-packages/ipykernel/kernelbase.py\u001b[0m in \u001b[0;36m_input_request\u001b[0;34m(self, prompt, ident, parent, password)\u001b[0m\n\u001b[1;32m    893\u001b[0m             \u001b[0;32mexcept\u001b[0m \u001b[0mKeyboardInterrupt\u001b[0m\u001b[0;34m:\u001b[0m\u001b[0;34m\u001b[0m\u001b[0;34m\u001b[0m\u001b[0m\n\u001b[1;32m    894\u001b[0m                 \u001b[0;31m# re-raise KeyboardInterrupt, to truncate traceback\u001b[0m\u001b[0;34m\u001b[0m\u001b[0;34m\u001b[0m\u001b[0m\n\u001b[0;32m--> 895\u001b[0;31m                 \u001b[0;32mraise\u001b[0m \u001b[0mKeyboardInterrupt\u001b[0m\u001b[0;34m(\u001b[0m\u001b[0;34m\"Interrupted by user\"\u001b[0m\u001b[0;34m)\u001b[0m \u001b[0;32mfrom\u001b[0m \u001b[0;32mNone\u001b[0m\u001b[0;34m\u001b[0m\u001b[0;34m\u001b[0m\u001b[0m\n\u001b[0m\u001b[1;32m    896\u001b[0m             \u001b[0;32mexcept\u001b[0m \u001b[0mException\u001b[0m \u001b[0;32mas\u001b[0m \u001b[0me\u001b[0m\u001b[0;34m:\u001b[0m\u001b[0;34m\u001b[0m\u001b[0;34m\u001b[0m\u001b[0m\n\u001b[1;32m    897\u001b[0m                 \u001b[0mself\u001b[0m\u001b[0;34m.\u001b[0m\u001b[0mlog\u001b[0m\u001b[0;34m.\u001b[0m\u001b[0mwarning\u001b[0m\u001b[0;34m(\u001b[0m\u001b[0;34m\"Invalid Message:\"\u001b[0m\u001b[0;34m,\u001b[0m \u001b[0mexc_info\u001b[0m\u001b[0;34m=\u001b[0m\u001b[0;32mTrue\u001b[0m\u001b[0;34m)\u001b[0m\u001b[0;34m\u001b[0m\u001b[0;34m\u001b[0m\u001b[0m\n",
            "\u001b[0;31mKeyboardInterrupt\u001b[0m: Interrupted by user"
          ]
        }
      ],
      "source": [
        "class Employee:\n",
        "    def __init__(self, emp_id, name, department):\n",
        "        self.emp_id = emp_id\n",
        "        self.name = name\n",
        "        self.department = department\n",
        "\n",
        "def add_employee(employees, emp_id, name, department):\n",
        "    try:\n",
        "        new_employee = Employee(emp_id, name, department)\n",
        "        employees.append(new_employee)\n",
        "        print(f\"Employee {name} added successfully!\")\n",
        "    except Exception as e:\n",
        "        print(f\"Error adding employee: {e}\")\n",
        "\n",
        "def display_employees(employees):\n",
        "    print(\"\\nEmployee List:\")\n",
        "    for emp in employees:\n",
        "        print(f\"ID: {emp.emp_id}, Name: {emp.name}, Department: {emp.department}\")\n",
        "\n",
        "employees = []  # List to store employee objects\n",
        "\n",
        "while True:\n",
        "    print(\"\\nEmployee Management System\")\n",
        "    print(\"1. Add Employee\")\n",
        "    print(\"2. Display Employees\")\n",
        "    print(\"3. Exit\")\n",
        "    choice = input(\"Enter your choice (1/2/3): \")\n",
        "\n",
        "    if choice == '1':\n",
        "        emp_id = input(\"Enter Employee ID: \")\n",
        "        name = input(\"Enter Employee Name: \")\n",
        "        department = input(\"Enter Department: \")\n",
        "        add_employee(employees, emp_id, name, department)\n",
        "    elif choice == '2':\n",
        "        display_employees(employees)\n",
        "    elif choice == '3':\n",
        "        print(\"Exiting Employee Management System. Goodbye!\")\n",
        "        break\n",
        "    else:\n",
        "        print(\"Invalid choice. Please select 1, 2, or 3.\")\n"
      ]
    },
    {
      "cell_type": "code",
      "execution_count": null,
      "metadata": {
        "colab": {
          "background_save": true,
          "base_uri": "https://localhost:8080/"
        },
        "id": "T1__yJ_0DLEV",
        "outputId": "2b4f07e6-df3a-495c-b11b-70679ac6f11d"
      },
      "outputs": [
        {
          "name": "stdout",
          "output_type": "stream",
          "text": [
            "\n",
            "Employee Management System\n",
            "1. Add Employee\n",
            "2. Display Employees\n",
            "3. Exit\n"
          ]
        }
      ],
      "source": [
        "# Employee class (base class)\n",
        "class Employee:\n",
        "    def __init__(self, emp_id, name, department):\n",
        "        self.emp_id = emp_id\n",
        "        self.name = name\n",
        "        self.department = department\n",
        "\n",
        "    def display_info(self):\n",
        "        print(f\"Employee ID: {self.emp_id}\")\n",
        "        print(f\"Name: {self.name}\")\n",
        "        print(f\"Department: {self.department}\")\n",
        "\n",
        "# Manager class (inherits from Employee)\n",
        "class Manager(Employee):\n",
        "    def __init__(self, emp_id, name, department, team_size):\n",
        "        super().__init__(emp_id, name, department)\n",
        "        self.team_size = team_size\n",
        "\n",
        "    def display_info(self):\n",
        "        super().display_info()\n",
        "        print(f\"Team Size: {self.team_size}\")\n",
        "\n",
        "# Exception handling for invalid input\n",
        "def get_positive_integer(prompt):\n",
        "    while True:\n",
        "        try:\n",
        "            value = int(input(prompt))\n",
        "            if value <= 0:\n",
        "                raise ValueError(\"Please enter a positive integer.\")\n",
        "            return value\n",
        "        except ValueError as e:\n",
        "            print(f\"Error: {e}\")\n",
        "\n",
        "# Main program\n",
        "employees = []  # List to store employee objects\n",
        "\n",
        "while True:\n",
        "    print(\"\\nEmployee Management System\")\n",
        "    print(\"1. Add Employee\")\n",
        "    print(\"2. Display Employees\")\n",
        "    print(\"3. Exit\")\n",
        "    choice = input(\"Enter your choice (1/2/3): \")\n",
        "\n",
        "    if choice == '1':\n",
        "        emp_id = get_positive_integer(\"Enter Employee ID: \")\n",
        "        name = input(\"Enter Employee Name: \")\n",
        "        department = input(\"Enter Department: \")\n",
        "        team_size = get_positive_integer(\"Enter Team Size (for managers): \")\n",
        "        try:\n",
        "            if team_size > 0:\n",
        "                new_employee = Manager(emp_id, name, department, team_size)\n",
        "            else:\n",
        "                new_employee = Employee(emp_id, name, department)\n",
        "            employees.append(new_employee)\n",
        "            print(f\"Employee {name} added successfully!\")\n",
        "        except Exception as e:\n",
        "            print(f\"Error adding employee: {e}\")\n",
        "    elif choice == '2':\n",
        "        print(\"\\nEmployee List:\")\n",
        "        for emp in employees:\n",
        "            emp.display_info()\n",
        "            print(\"-\" * 30)\n",
        "    elif choice == '3':\n",
        "        print(\"Exiting Employee Management System. Goodbye!\")\n",
        "        break\n",
        "    else:\n",
        "        print(\"Invalid choice. Please select 1, 2, or 3.\")\n",
        "\n"
      ]
    },
    {
      "cell_type": "code",
      "execution_count": null,
      "metadata": {
        "id": "SyWE_eN3zuLt"
      },
      "outputs": [],
      "source": [
        "class Employee:\n",
        "  num_of_emps=0\n",
        "  raise_amount=1.04\n",
        "\n",
        "  def __init__(self,first,last,pay):\n",
        "    self.first=first\n",
        "    self.last=last\n",
        "    self.pay=pay\n",
        "    self.email=first+'.'+last + '@company.com'\n",
        "\n",
        "    Employee.num_of_emps+=1\n",
        "  def fullname(self):\n",
        "    print('{} {}'.format(self.first,self.last))\n",
        "\n",
        "  def apply_raise(self):\n",
        "    self.pay=int(self.pay * self.raise_amount)\n",
        "\n",
        "print(Employee.num_of_emps)\n",
        "emp_1=Employee('Sagar','SinghThapa',50000)\n",
        "emp_2=Employee('Mayank','SinghBisht',60000)\n",
        "\n",
        "print(Employee.num_of_emps)\n",
        "# print(Employee.__dict__)\n",
        "\n",
        "emp_1.raise_amount=1.05\n",
        "print(emp_1.__dict__)\n",
        "print(emp_1.raise_amount)\n",
        "print(emp_2.raise_amount)\n",
        "print(Employee.raise_amount)\n",
        "\n",
        "#"
      ]
    },
    {
      "cell_type": "code",
      "execution_count": null,
      "metadata": {
        "colab": {
          "base_uri": "https://localhost:8080/"
        },
        "id": "VSuWbumb6cW-",
        "outputId": "be0e49a6-6de6-465f-8c5a-58e6051da07c"
      },
      "outputs": [
        {
          "name": "stdout",
          "output_type": "stream",
          "text": [
            "True\n"
          ]
        }
      ],
      "source": [
        "class Employee:\n",
        "  num_of_emps=0\n",
        "  raise_amount=1.04\n",
        "\n",
        "  def __init__(self,first,last,pay):\n",
        "    self.first=first\n",
        "    self.last=last\n",
        "    self.pay=pay\n",
        "    self.email=first+'.'+last + '@company.com'\n",
        "\n",
        "    Employee.num_of_emps+=1\n",
        "  def fullname(self):\n",
        "    print('{} {}'.format(self.first,self.last))\n",
        "\n",
        "  def apply_raise(self):\n",
        "    self.pay=int(self.pay * self.raise_amount)\n",
        "\n",
        "  @classmethod\n",
        "  def set_raise_amt(cls,amount):\n",
        "    cls.raise_amt=amount\n",
        "\n",
        "  @classmethod\n",
        "  def from_string(cls,emp_str):\n",
        "    first, last, pay = emp_str.split('-')\n",
        "    return cls(first, last, pay)\n",
        "\n",
        "  @classmethod\n",
        "  def fromtimestamp(cls,t):\n",
        "    y, m, d, hh, mm, ss, weekday, jday, dst =_time.localtime(t)\n",
        "    return cls(y, m, d)\n",
        "\n",
        "  @classmethod\n",
        "  def today(cls):\n",
        "    t=_time.time()\n",
        "    return cls.fromtimestamp(t)\n",
        "\n",
        "  @staticmethod\n",
        "  def is_workday(day):\n",
        "    if day.weekday()==5 or day.weekday()==6:\n",
        "      return False\n",
        "    return True\n",
        "emp_1=Employee('Sagar','SinghThapa',50000)\n",
        "emp_2=Employee('Mayank','SinghBisht',60000)\n",
        "\n",
        "import datetime\n",
        "my_date=datetime.date(2024, 4, 8)\n",
        "\n",
        "print(Employee.is_workday(my_date))\n",
        "# emp_str_1='John-Deo-60700'\n",
        "# emp_str_2='Steav-Smith-30700'\n",
        "# emp_str_3='Ramu-Das-80700'\n",
        "\n",
        "# new_emp_1=Employee.from_string(emp_str_1)\n",
        "\n",
        "# print(new_emp_1.email)\n",
        "# print(new_emp_1.pay)\n",
        "\n"
      ]
    },
    {
      "cell_type": "code",
      "execution_count": null,
      "metadata": {
        "colab": {
          "base_uri": "https://localhost:8080/"
        },
        "id": "dH2Qd5hWSBIF",
        "outputId": "563b5d81-576d-4571-f348-0f03b8681193"
      },
      "outputs": [
        {
          "name": "stdout",
          "output_type": "stream",
          "text": [
            "Mono.Kumar@company.com\n",
            "Sagar SinghThapa\n",
            "--> None\n"
          ]
        }
      ],
      "source": [
        "class Employee:\n",
        "  raise_amount=1.04\n",
        "\n",
        "  def __init__(self,first,last,pay):\n",
        "    self.first=first\n",
        "    self.last=last\n",
        "    self.pay=pay\n",
        "    self.email=first+'.'+last + '@company.com'\n",
        "\n",
        "  def fullname(self):\n",
        "    print('{} {}'.format(self.first,self.last))\n",
        "\n",
        "  def apply_raise(self):\n",
        "    self.pay=int(self.pay * self.raise_amount)\n",
        "\n",
        "class Developer(Employee):\n",
        "  raise_amount=1.10\n",
        "\n",
        "  def __init__(self, first, last, pay, prog_lang):\n",
        "    super().__init__(first,last,pay)\n",
        "    self.prog_lang=prog_lang\n",
        "\n",
        "class Manager(Employee):\n",
        "\n",
        "    def __init__(self, first, last, pay, employees=None):\n",
        "        super().__init__(first, last, pay)\n",
        "        if employees is None:\n",
        "            self.employees = []\n",
        "        else:\n",
        "            self.employees = employees\n",
        "\n",
        "    def add_emp(self, emp):\n",
        "        if emp not in self.employees:\n",
        "            self.employees.append(emp)\n",
        "\n",
        "    def remove_emp(self, emp):\n",
        "        if emp in self.employees:\n",
        "            self.employees.remove(emp)\n",
        "\n",
        "    def print_emps(self):\n",
        "        for emp in self.employees:\n",
        "            print('-->', emp.fullname())\n",
        "\n",
        "dev_1=Developer('Sagar','SinghThapa',50000, 'Python')\n",
        "dev_2=Developer('Mayank','SinghBisht',60000, 'C Language')\n",
        "\n",
        "\n",
        "mgr_1=Manager('Mono', 'Kumar', 90000, [dev_1])\n",
        "\n",
        "print(mgr_1.email)\n",
        "mgr_1.add_emp(dev_2)\n",
        "mgr_1.remove_emp(dev_2)\n",
        "mgr_1.print_emps()\n",
        "# print(dev_1.email)\n",
        "# print(dev_2.email)\n",
        "\n",
        "# print(dev_1.pay)\n",
        "# dev_1.apply_raise()\n",
        "# print(dev_1.pay)\n",
        "\n",
        "# print(dev_1.email)\n",
        "# print(dev_1.prog_lang)\n"
      ]
    },
    {
      "cell_type": "code",
      "execution_count": null,
      "metadata": {
        "colab": {
          "base_uri": "https://localhost:8080/"
        },
        "id": "Xi6zEiJae8QL",
        "outputId": "64a5c0b9-6dcb-497a-e2aa-c16e920ed0b4"
      },
      "outputs": [
        {
          "name": "stdout",
          "output_type": "stream",
          "text": [
            "Mono.Kumar@email.com\n",
            "--> Sagar Singh Thapa\n",
            "--> Mayank Singh Bisht\n",
            "True\n",
            "False\n",
            "False\n"
          ]
        }
      ],
      "source": [
        "\n",
        "class Employee:\n",
        "\n",
        "    raise_amt = 1.04\n",
        "\n",
        "    def __init__(self, first, last, pay):\n",
        "        self.first = first\n",
        "        self.last = last\n",
        "        self.email = first + '.' + last + '@email.com'\n",
        "        self.pay = pay\n",
        "\n",
        "    def fullname(self):\n",
        "        return '{} {}'.format(self.first, self.last)\n",
        "\n",
        "    def apply_raise(self):\n",
        "        self.pay = int(self.pay * self.raise_amt)\n",
        "\n",
        "\n",
        "class Developer(Employee):\n",
        "    raise_amt = 1.10\n",
        "\n",
        "    def __init__(self, first, last, pay, prog_lang):\n",
        "        super().__init__(first, last, pay)\n",
        "        self.prog_lang = prog_lang\n",
        "\n",
        "\n",
        "class Manager(Employee):\n",
        "\n",
        "    def __init__(self, first, last, pay, employees=None):\n",
        "        super().__init__(first, last, pay)\n",
        "        if employees is None:\n",
        "            self.employees = []\n",
        "        else:\n",
        "            self.employees = employees\n",
        "\n",
        "    def add_emp(self, emp):\n",
        "        if emp not in self.employees:\n",
        "            self.employees.append(emp)\n",
        "\n",
        "    def remove_emp(self, emp):\n",
        "        if emp in self.employees:\n",
        "            self.employees.remove(emp)\n",
        "\n",
        "    def print_emps(self):\n",
        "        for emp in self.employees:\n",
        "            print('-->', emp.fullname())\n",
        "\n",
        "\n",
        "dev_1 = Developer('Sagar', 'Singh Thapa', 50000, 'Python')\n",
        "dev_2 = Developer('Mayank', 'Singh Bisht', 60000, 'Java')\n",
        "\n",
        "mgr_1 = Manager('Mono', 'Kumar', 90000, [dev_1])\n",
        "\n",
        "print(mgr_1.email)\n",
        "\n",
        "mgr_1.add_emp(dev_2)\n",
        "# mgr_1.remove_emp(dev_2)\n",
        "\n",
        "mgr_1.print_emps()\n",
        "\n",
        "print(issubclass(Manager, Employee))\n",
        "print(issubclass(Manager, Developer))\n",
        "print(isinstance(mgr_1, Developer))"
      ]
    },
    {
      "cell_type": "markdown",
      "metadata": {
        "id": "ASngw2GLZI-r"
      },
      "source": [
        "special method"
      ]
    },
    {
      "cell_type": "code",
      "execution_count": null,
      "metadata": {
        "colab": {
          "base_uri": "https://localhost:8080/",
          "height": 371
        },
        "id": "JAAPCL6YZLuh",
        "outputId": "377b9f85-9b8a-40f7-f6b9-7dad0d0cd61b"
      },
      "outputs": [
        {
          "name": "stdout",
          "output_type": "stream",
          "text": [
            "Employee ('Sagar', 'Singh','Thapa')\n",
            "Employee ('Sagar', 'Singh','Thapa')\n"
          ]
        },
        {
          "ename": "AttributeError",
          "evalue": "'str' object has no attribute 'formate'",
          "output_type": "error",
          "traceback": [
            "\u001b[0;31m---------------------------------------------------------------------------\u001b[0m",
            "\u001b[0;31mAttributeError\u001b[0m                            Traceback (most recent call last)",
            "\u001b[0;32m<ipython-input-5-f806bba3c220>\u001b[0m in \u001b[0;36m<cell line: 28>\u001b[0;34m()\u001b[0m\n\u001b[1;32m     26\u001b[0m \u001b[0mprint\u001b[0m\u001b[0;34m(\u001b[0m\u001b[0mrepr\u001b[0m\u001b[0;34m(\u001b[0m\u001b[0memp_1\u001b[0m\u001b[0;34m)\u001b[0m\u001b[0;34m)\u001b[0m\u001b[0;34m\u001b[0m\u001b[0;34m\u001b[0m\u001b[0m\n\u001b[1;32m     27\u001b[0m \u001b[0mprint\u001b[0m\u001b[0;34m(\u001b[0m\u001b[0memp_1\u001b[0m\u001b[0;34m.\u001b[0m\u001b[0m__repr__\u001b[0m\u001b[0;34m(\u001b[0m\u001b[0;34m)\u001b[0m\u001b[0;34m)\u001b[0m\u001b[0;34m\u001b[0m\u001b[0;34m\u001b[0m\u001b[0m\n\u001b[0;32m---> 28\u001b[0;31m \u001b[0mprint\u001b[0m\u001b[0;34m(\u001b[0m\u001b[0memp_1\u001b[0m\u001b[0;34m.\u001b[0m\u001b[0m__str__\u001b[0m\u001b[0;34m(\u001b[0m\u001b[0;34m)\u001b[0m\u001b[0;34m)\u001b[0m\u001b[0;34m\u001b[0m\u001b[0;34m\u001b[0m\u001b[0m\n\u001b[0m",
            "\u001b[0;32m<ipython-input-5-f806bba3c220>\u001b[0m in \u001b[0;36m__str__\u001b[0;34m(self)\u001b[0m\n\u001b[1;32m     18\u001b[0m \u001b[0;34m\u001b[0m\u001b[0m\n\u001b[1;32m     19\u001b[0m   \u001b[0;32mdef\u001b[0m \u001b[0m__str__\u001b[0m\u001b[0;34m(\u001b[0m\u001b[0mself\u001b[0m\u001b[0;34m)\u001b[0m\u001b[0;34m:\u001b[0m\u001b[0;34m\u001b[0m\u001b[0;34m\u001b[0m\u001b[0m\n\u001b[0;32m---> 20\u001b[0;31m     \u001b[0;32mreturn\u001b[0m\u001b[0;34m'{} - {}'\u001b[0m\u001b[0;34m.\u001b[0m\u001b[0mformat\u001b[0m\u001b[0;34m(\u001b[0m\u001b[0mself\u001b[0m\u001b[0;34m.\u001b[0m\u001b[0mfullname\u001b[0m\u001b[0;34m(\u001b[0m\u001b[0;34m)\u001b[0m\u001b[0;34m,\u001b[0m \u001b[0mself\u001b[0m\u001b[0;34m.\u001b[0m\u001b[0memail\u001b[0m\u001b[0;34m)\u001b[0m\u001b[0;34m\u001b[0m\u001b[0;34m\u001b[0m\u001b[0m\n\u001b[0m\u001b[1;32m     21\u001b[0m \u001b[0;34m\u001b[0m\u001b[0m\n\u001b[1;32m     22\u001b[0m \u001b[0memp_1\u001b[0m \u001b[0;34m=\u001b[0m \u001b[0mEmployee\u001b[0m\u001b[0;34m(\u001b[0m\u001b[0;34m'Sagar'\u001b[0m\u001b[0;34m,\u001b[0m \u001b[0;34m'Singh'\u001b[0m\u001b[0;34m,\u001b[0m \u001b[0;34m'Thapa'\u001b[0m\u001b[0;34m,\u001b[0m \u001b[0;36m50000\u001b[0m\u001b[0;34m)\u001b[0m\u001b[0;34m\u001b[0m\u001b[0;34m\u001b[0m\u001b[0m\n",
            "\u001b[0;32m<ipython-input-5-f806bba3c220>\u001b[0m in \u001b[0;36mfullname\u001b[0;34m(self)\u001b[0m\n\u001b[1;32m      9\u001b[0m \u001b[0;34m\u001b[0m\u001b[0m\n\u001b[1;32m     10\u001b[0m   \u001b[0;32mdef\u001b[0m \u001b[0mfullname\u001b[0m\u001b[0;34m(\u001b[0m\u001b[0mself\u001b[0m\u001b[0;34m)\u001b[0m\u001b[0;34m:\u001b[0m\u001b[0;34m\u001b[0m\u001b[0;34m\u001b[0m\u001b[0m\n\u001b[0;32m---> 11\u001b[0;31m     \u001b[0;32mreturn\u001b[0m \u001b[0;34m'{} {} {}'\u001b[0m\u001b[0;34m.\u001b[0m\u001b[0mformate\u001b[0m\u001b[0;34m(\u001b[0m\u001b[0mself\u001b[0m\u001b[0;34m.\u001b[0m\u001b[0mfirst\u001b[0m\u001b[0;34m,\u001b[0m \u001b[0mself\u001b[0m\u001b[0;34m.\u001b[0m\u001b[0mmiddle\u001b[0m\u001b[0;34m,\u001b[0m \u001b[0mself\u001b[0m\u001b[0;34m.\u001b[0m\u001b[0mlast\u001b[0m\u001b[0;34m)\u001b[0m\u001b[0;34m\u001b[0m\u001b[0;34m\u001b[0m\u001b[0m\n\u001b[0m\u001b[1;32m     12\u001b[0m \u001b[0;34m\u001b[0m\u001b[0m\n\u001b[1;32m     13\u001b[0m   \u001b[0;32mdef\u001b[0m \u001b[0mapply_raise\u001b[0m\u001b[0;34m(\u001b[0m\u001b[0mself\u001b[0m\u001b[0;34m)\u001b[0m\u001b[0;34m:\u001b[0m\u001b[0;34m\u001b[0m\u001b[0;34m\u001b[0m\u001b[0m\n",
            "\u001b[0;31mAttributeError\u001b[0m: 'str' object has no attribute 'formate'"
          ]
        }
      ],
      "source": [
        "class Employee:\n",
        "  raise_amt=1.05\n",
        "  def __init__(self, first, middle, last, pay):\n",
        "    self.first=first\n",
        "    self.middle=middle\n",
        "    self.last=last\n",
        "    email=first + '.' + last + '@gmail.com'\n",
        "    self.pay=pay\n",
        "\n",
        "  def fullname(self):\n",
        "    return '{} {} {}'.formate(self.first, self.middle, self.last)\n",
        "\n",
        "  def apply_raise(self):\n",
        "    self.pay=int(self.pay * self.raise_amt)\n",
        "\n",
        "  def __repr__(self):\n",
        "    return \"Employee ('{}', '{}','{}')\".format(self.first,self.middle, self.last,self.pay)\n",
        "\n",
        "  def __str__(self):\n",
        "    return'{} - {}'.format(self.fullname(), self.email)\n",
        "\n",
        "emp_1 = Employee('Sagar', 'Singh', 'Thapa', 50000)\n",
        "emp_2 = Employee('Mayank', 'Singh', 'Bisht', 60000)\n",
        "\n",
        "# print(emp_1)\n",
        "print(repr(emp_1))\n",
        "print(emp_1.__repr__())\n",
        "print(emp_1.__str__())"
      ]
    },
    {
      "cell_type": "code",
      "execution_count": null,
      "metadata": {
        "colab": {
          "base_uri": "https://localhost:8080/",
          "height": 311
        },
        "id": "1FhcXjRHCaqy",
        "outputId": "47036229-0a51-42d6-9087-833f81d4da3a"
      },
      "outputs": [
        {
          "ename": "AttributeError",
          "evalue": "'Employee' object has no attribute 'email'",
          "output_type": "error",
          "traceback": [
            "\u001b[0;31m---------------------------------------------------------------------------\u001b[0m",
            "\u001b[0;31mAttributeError\u001b[0m                            Traceback (most recent call last)",
            "\u001b[0;32m<ipython-input-6-4101fad5a595>\u001b[0m in \u001b[0;36m<cell line: 25>\u001b[0;34m()\u001b[0m\n\u001b[1;32m     23\u001b[0m \u001b[0memp_2\u001b[0m \u001b[0;34m=\u001b[0m \u001b[0mEmployee\u001b[0m\u001b[0;34m(\u001b[0m\u001b[0;34m'Mayank'\u001b[0m\u001b[0;34m,\u001b[0m \u001b[0;34m'Singh'\u001b[0m\u001b[0;34m,\u001b[0m \u001b[0;34m'Bisht'\u001b[0m\u001b[0;34m,\u001b[0m \u001b[0;36m60000\u001b[0m\u001b[0;34m)\u001b[0m\u001b[0;34m\u001b[0m\u001b[0;34m\u001b[0m\u001b[0m\n\u001b[1;32m     24\u001b[0m \u001b[0;34m\u001b[0m\u001b[0m\n\u001b[0;32m---> 25\u001b[0;31m \u001b[0mprint\u001b[0m\u001b[0;34m(\u001b[0m\u001b[0memp_1\u001b[0m\u001b[0;34m.\u001b[0m\u001b[0m__str__\u001b[0m\u001b[0;34m(\u001b[0m\u001b[0;34m)\u001b[0m\u001b[0;34m)\u001b[0m\u001b[0;34m\u001b[0m\u001b[0;34m\u001b[0m\u001b[0m\n\u001b[0m",
            "\u001b[0;32m<ipython-input-6-4101fad5a595>\u001b[0m in \u001b[0;36m__str__\u001b[0;34m(self)\u001b[0m\n\u001b[1;32m     18\u001b[0m \u001b[0;34m\u001b[0m\u001b[0m\n\u001b[1;32m     19\u001b[0m   \u001b[0;32mdef\u001b[0m \u001b[0m__str__\u001b[0m\u001b[0;34m(\u001b[0m\u001b[0mself\u001b[0m\u001b[0;34m)\u001b[0m\u001b[0;34m:\u001b[0m\u001b[0;34m\u001b[0m\u001b[0;34m\u001b[0m\u001b[0m\n\u001b[0;32m---> 20\u001b[0;31m     \u001b[0;32mreturn\u001b[0m\u001b[0;34m'{} - {}'\u001b[0m\u001b[0;34m.\u001b[0m\u001b[0mformat\u001b[0m\u001b[0;34m(\u001b[0m\u001b[0mself\u001b[0m\u001b[0;34m.\u001b[0m\u001b[0mfullname\u001b[0m\u001b[0;34m(\u001b[0m\u001b[0;34m)\u001b[0m\u001b[0;34m,\u001b[0m \u001b[0mself\u001b[0m\u001b[0;34m.\u001b[0m\u001b[0memail\u001b[0m\u001b[0;34m)\u001b[0m\u001b[0;34m\u001b[0m\u001b[0;34m\u001b[0m\u001b[0m\n\u001b[0m\u001b[1;32m     21\u001b[0m \u001b[0;34m\u001b[0m\u001b[0m\n\u001b[1;32m     22\u001b[0m \u001b[0memp_1\u001b[0m \u001b[0;34m=\u001b[0m \u001b[0mEmployee\u001b[0m\u001b[0;34m(\u001b[0m\u001b[0;34m'Sagar'\u001b[0m\u001b[0;34m,\u001b[0m \u001b[0;34m'Singh'\u001b[0m\u001b[0;34m,\u001b[0m \u001b[0;34m'Thapa'\u001b[0m\u001b[0;34m,\u001b[0m \u001b[0;36m50000\u001b[0m\u001b[0;34m)\u001b[0m\u001b[0;34m\u001b[0m\u001b[0;34m\u001b[0m\u001b[0m\n",
            "\u001b[0;31mAttributeError\u001b[0m: 'Employee' object has no attribute 'email'"
          ]
        }
      ],
      "source": [
        "class Employee:\n",
        "  raise_amt=1.05\n",
        "  def __init__(self, first, middle, last, pay):\n",
        "    self.first=first\n",
        "    self.middle=middle\n",
        "    self.last=last\n",
        "    email=first + '.' + last + '@gmail.com'\n",
        "    self.pay=pay\n",
        "\n",
        "  def fullname(self):\n",
        "    return '{} {} {}'.format(self.first, self.middle, self.last)\n",
        "\n",
        "  def apply_raise(self):\n",
        "    self.pay=int(self.pay * self.raise_amt)\n",
        "\n",
        "  def __repr__(self):\n",
        "    return \"Employee ('{}', '{}','{}')\".format(self.first,self.middle, self.last,self.pay)\n",
        "\n",
        "  def __str__(self):\n",
        "    return'{} - {}'.format(self.fullname(), self.email)\n",
        "\n",
        "emp_1 = Employee('Sagar', 'Singh', 'Thapa', 50000)\n",
        "emp_2 = Employee('Mayank', 'Singh', 'Bisht', 60000)\n",
        "\n",
        "print(emp_1.__str__())"
      ]
    }
  ],
  "metadata": {
    "colab": {
      "provenance": [],
      "authorship_tag": "ABX9TyM9ysIXBVuTENhuJRSY1WEM",
      "include_colab_link": true
    },
    "kernelspec": {
      "display_name": "Python 3",
      "name": "python3"
    },
    "language_info": {
      "name": "python"
    }
  },
  "nbformat": 4,
  "nbformat_minor": 0
}