{
  "nbformat": 4,
  "nbformat_minor": 0,
  "metadata": {
    "colab": {
      "provenance": [],
      "mount_file_id": "1mQxCvDbcVs1YG2-PtevqsHzi_jBeSf6J",
      "authorship_tag": "ABX9TyNB4S3rHxRFRWUjjwmOv9az",
      "include_colab_link": true
    },
    "kernelspec": {
      "name": "python3",
      "display_name": "Python 3"
    },
    "language_info": {
      "name": "python"
    }
  },
  "cells": [
    {
      "cell_type": "markdown",
      "metadata": {
        "id": "view-in-github",
        "colab_type": "text"
      },
      "source": [
        "<a href=\"https://colab.research.google.com/github/SagarSinghThapa/Python/blob/main/FUCTIONS.ipynb\" target=\"_parent\"><img src=\"https://colab.research.google.com/assets/colab-badge.svg\" alt=\"Open In Colab\"/></a>"
      ]
    },
    {
      "cell_type": "code",
      "source": [
        "def Sum_of_cube(n):\n",
        "  sum_result=0\n",
        "  for i in range(1,n):\n",
        "    sum_result +=i**3\n",
        "  return sum_result\n",
        "\n",
        "Sum_of_cube(5)"
      ],
      "metadata": {
        "colab": {
          "base_uri": "https://localhost:8080/"
        },
        "id": "_RVSWfi6pXV2",
        "outputId": "cdc1dd9f-4ac6-4cff-cab9-93d46db00fe3"
      },
      "execution_count": 10,
      "outputs": [
        {
          "output_type": "execute_result",
          "data": {
            "text/plain": [
              "100"
            ]
          },
          "metadata": {},
          "execution_count": 10
        }
      ]
    },
    {
      "cell_type": "code",
      "source": [
        "def fibonacci(n):\n",
        "  a=0\n",
        "  b=1\n",
        "  c=0\n",
        "  print(a)\n",
        "  for i in range(0,n):\n",
        "    a=b\n",
        "    b=c\n",
        "    c=a+b\n",
        "    print(c)\n",
        "\n",
        "fibonacci(5)"
      ],
      "metadata": {
        "colab": {
          "base_uri": "https://localhost:8080/"
        },
        "id": "D3OJes_uqzLR",
        "outputId": "ebfa8bca-f241-4987-b173-94d8fb63bba9"
      },
      "execution_count": 8,
      "outputs": [
        {
          "output_type": "stream",
          "name": "stdout",
          "text": [
            "0\n",
            "1\n",
            "1\n",
            "2\n",
            "3\n",
            "5\n"
          ]
        }
      ]
    },
    {
      "cell_type": "markdown",
      "source": [
        "write a python function that takes a positive interger and returns the sum of the cube of positive integer smaller than the specified number\n",
        "\n",
        "write a function to print fibonacci series till n numbers\n",
        "\n",
        "write a lambda function to find min and max from the list\n",
        "sample input:[10,6,8,90,12,56]\n",
        "sample output:[6,90]"
      ],
      "metadata": {
        "id": "LnaKXxNbm6OT"
      }
    }
  ]
}